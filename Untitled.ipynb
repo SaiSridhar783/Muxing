{
 "cells": [
  {
   "cell_type": "code",
   "execution_count": 1,
   "metadata": {
    "ExecuteTime": {
     "end_time": "2021-01-16T08:35:39.207355Z",
     "start_time": "2021-01-16T08:35:39.203941Z"
    }
   },
   "outputs": [],
   "source": [
    "import sys\n",
    "import os"
   ]
  },
  {
   "cell_type": "code",
   "execution_count": 22,
   "metadata": {
    "ExecuteTime": {
     "end_time": "2021-01-16T08:47:23.889269Z",
     "start_time": "2021-01-16T08:47:23.880116Z"
    }
   },
   "outputs": [
    {
     "data": {
      "text/plain": [
       "['.ipynb_checkpoints',\n",
       " '09.[DBZ] Saiyan Saga',\n",
       " '10.[DBZ] Frieza Saga',\n",
       " '11.[DBZ] Garlic Jr. Saga',\n",
       " '12.[DBZ] Androids Saga',\n",
       " '13.[DBZ] Cell Saga',\n",
       " '14.[DBZ] Cell Games Saga',\n",
       " '15.[DBZ] Other World Saga',\n",
       " '16.[DBZ] High School Saga',\n",
       " '17.[DBZ] 25th Tenkaichi Budokai Saga',\n",
       " '18.[DBZ] Majin Buu Saga',\n",
       " '19.[DBZ] Fusion & Kid Buu Saga',\n",
       " '20.[DBZ] Peaceful World Saga',\n",
       " 'Untitled.ipynb']"
      ]
     },
     "execution_count": 22,
     "metadata": {},
     "output_type": "execute_result"
    }
   ],
   "source": [
    "os.listdir()"
   ]
  },
  {
   "cell_type": "markdown",
   "metadata": {
    "ExecuteTime": {
     "end_time": "2021-01-16T08:35:45.883073Z",
     "start_time": "2021-01-16T08:35:45.838266Z"
    }
   },
   "source": [
    "## Get list of audio and video files"
   ]
  },
  {
   "cell_type": "code",
   "execution_count": 124,
   "metadata": {
    "ExecuteTime": {
     "end_time": "2021-01-16T12:09:18.968889Z",
     "start_time": "2021-01-16T12:09:18.963044Z"
    }
   },
   "outputs": [],
   "source": [
    "video = os.path.join(os.getcwd(),'20.[DBZ] Peaceful World Saga')\n",
    "\n",
    "video_list = os.listdir(video)[:-2]"
   ]
  },
  {
   "cell_type": "code",
   "execution_count": 125,
   "metadata": {
    "ExecuteTime": {
     "end_time": "2021-01-16T12:09:21.343870Z",
     "start_time": "2021-01-16T12:09:19.139227Z"
    }
   },
   "outputs": [],
   "source": [
    "audio = os.path.join(video, \"Season 6\")\n",
    "\n",
    "audio_list = os.listdir(audio)"
   ]
  },
  {
   "cell_type": "code",
   "execution_count": 126,
   "metadata": {
    "ExecuteTime": {
     "end_time": "2021-01-16T12:09:22.330303Z",
     "start_time": "2021-01-16T12:09:21.352859Z"
    },
    "scrolled": true
   },
   "outputs": [
    {
     "data": {
      "text/plain": [
       "[\"Dragon Ball Z 288 He's Always Late.mkv\",\n",
       " 'Dragon Ball Z 289 Granddaughter Pan.mkv',\n",
       " \"Dragon Ball Z 290 Buu's Reincarnation.mkv\",\n",
       " \"Dragon Ball Z 291 Goku's Next Journey.mkv\"]"
      ]
     },
     "execution_count": 126,
     "metadata": {},
     "output_type": "execute_result"
    }
   ],
   "source": [
    "(video_list)"
   ]
  },
  {
   "cell_type": "markdown",
   "metadata": {},
   "source": [
    "## Change mkv to mka (file name updated)"
   ]
  },
  {
   "cell_type": "code",
   "execution_count": 130,
   "metadata": {
    "ExecuteTime": {
     "end_time": "2021-01-16T12:09:34.025401Z",
     "start_time": "2021-01-16T12:09:34.010627Z"
    }
   },
   "outputs": [],
   "source": [
    "import re\n",
    "\n",
    "for i in audio_list:\n",
    "    k = re.search(r' [0-9]+? ', i)\n",
    "    os.rename(os.path.join(audio, i), os.path.join(audio, video_dic[int(k[0])][:-4]+\".mka\"))"
   ]
  },
  {
   "cell_type": "code",
   "execution_count": null,
   "metadata": {
    "ExecuteTime": {
     "end_time": "2021-01-16T08:43:51.535654Z",
     "start_time": "2021-01-16T08:43:51.528989Z"
    }
   },
   "outputs": [],
   "source": []
  },
  {
   "cell_type": "code",
   "execution_count": 127,
   "metadata": {
    "ExecuteTime": {
     "end_time": "2021-01-16T12:09:27.188802Z",
     "start_time": "2021-01-16T12:09:27.184835Z"
    }
   },
   "outputs": [],
   "source": [
    "import re\n",
    "\n",
    "video_dic = {}\n",
    "\n",
    "for i in video_list:\n",
    "    k = re.search(r' [0-9]+? ', i)\n",
    "    video_dic[int(k[0])] = i"
   ]
  },
  {
   "cell_type": "code",
   "execution_count": 128,
   "metadata": {
    "ExecuteTime": {
     "end_time": "2021-01-16T12:09:27.774655Z",
     "start_time": "2021-01-16T12:09:27.326913Z"
    },
    "scrolled": true
   },
   "outputs": [
    {
     "data": {
      "text/plain": [
       "{288: \"Dragon Ball Z 288 He's Always Late.mkv\",\n",
       " 289: 'Dragon Ball Z 289 Granddaughter Pan.mkv',\n",
       " 290: \"Dragon Ball Z 290 Buu's Reincarnation.mkv\",\n",
       " 291: \"Dragon Ball Z 291 Goku's Next Journey.mkv\"}"
      ]
     },
     "execution_count": 128,
     "metadata": {},
     "output_type": "execute_result"
    }
   ],
   "source": [
    "video_dic"
   ]
  },
  {
   "cell_type": "code",
   "execution_count": 129,
   "metadata": {
    "ExecuteTime": {
     "end_time": "2021-01-16T12:09:28.392307Z",
     "start_time": "2021-01-16T12:09:27.781885Z"
    },
    "scrolled": true
   },
   "outputs": [
    {
     "data": {
      "text/plain": [
       "[\"[AnimeRG] Dragon Ball Z - 288 He's Always Late.mkv\",\n",
       " '[AnimeRG] Dragon Ball Z - 289 Granddaughter Pan.mkv',\n",
       " \"[AnimeRG] Dragon Ball Z - 290 Buu's Reincarnation.mkv\",\n",
       " \"[AnimeRG] Dragon Ball Z - 291 Goku's Next Journey.mkv\"]"
      ]
     },
     "execution_count": 129,
     "metadata": {},
     "output_type": "execute_result"
    }
   ],
   "source": [
    "audio_list"
   ]
  },
  {
   "cell_type": "code",
   "execution_count": null,
   "metadata": {
    "ExecuteTime": {
     "end_time": "2021-01-16T09:39:38.835376Z",
     "start_time": "2021-01-16T09:39:38.830150Z"
    }
   },
   "outputs": [],
   "source": []
  },
  {
   "cell_type": "code",
   "execution_count": null,
   "metadata": {},
   "outputs": [],
   "source": []
  }
 ],
 "metadata": {
  "kernelspec": {
   "display_name": "Python 3",
   "language": "python",
   "name": "python3"
  },
  "language_info": {
   "codemirror_mode": {
    "name": "ipython",
    "version": 3
   },
   "file_extension": ".py",
   "mimetype": "text/x-python",
   "name": "python",
   "nbconvert_exporter": "python",
   "pygments_lexer": "ipython3",
   "version": "3.8.5"
  },
  "varInspector": {
   "cols": {
    "lenName": 16,
    "lenType": 16,
    "lenVar": 40
   },
   "kernels_config": {
    "python": {
     "delete_cmd_postfix": "",
     "delete_cmd_prefix": "del ",
     "library": "var_list.py",
     "varRefreshCmd": "print(var_dic_list())"
    },
    "r": {
     "delete_cmd_postfix": ") ",
     "delete_cmd_prefix": "rm(",
     "library": "var_list.r",
     "varRefreshCmd": "cat(var_dic_list()) "
    }
   },
   "types_to_exclude": [
    "module",
    "function",
    "builtin_function_or_method",
    "instance",
    "_Feature"
   ],
   "window_display": false
  }
 },
 "nbformat": 4,
 "nbformat_minor": 4
}
